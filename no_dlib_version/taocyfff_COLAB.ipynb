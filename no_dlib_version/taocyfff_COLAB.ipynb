{
  "nbformat": 4,
  "nbformat_minor": 0,
  "metadata": {
    "colab": {
      "name": "taocyfff.ipynb",
      "provenance": [],
      "collapsed_sections": []
    },
    "kernelspec": {
      "name": "python3",
      "display_name": "Python 3"
    },
    "language_info": {
      "name": "python"
    }
  },
  "cells": [
    {
      "cell_type": "code",
      "source": [
        "import tensorflow as tf\n",
        "from keras import datasets, layers, models"
      ],
      "metadata": {
        "id": "FDkFNErpbXFq"
      },
      "execution_count": 2,
      "outputs": []
    },
    {
      "cell_type": "code",
      "source": [
        "def create_model():\n",
        "    '''\n",
        "    Define a CNN where input to the model must be a 96 by 96 pixel, greyscale, image\n",
        "\n",
        "    Returns:\n",
        "    -------\n",
        "    model: A fully-connected output layer with 30 facial keypoints\n",
        "    '''\n",
        "\n",
        "    model = models.Sequential()\n",
        "    model.add(layers.Conv2D(32, (5,5), activation='relu', input_shape=(96, 96, 1)))\n",
        "    model.add(layers.MaxPooling2D((2, 2)))\n",
        "\n",
        "    model.add(layers.Conv2D(64, (3, 3), activation='relu'))\n",
        "    model.add(layers.MaxPooling2D((2, 2)))\n",
        "    model.add(layers.Dropout(0.1))\n",
        "\n",
        "    model.add(layers.Conv2D(128, (3, 3), activation='relu'))\n",
        "    model.add(layers.MaxPooling2D((2, 2)))\n",
        "    model.add(layers.Dropout(0.2))\n",
        "    \n",
        "    model.add(layers.Conv2D(256, (3, 3), activation='relu'))\n",
        "    model.add(layers.MaxPooling2D((2, 2)))\n",
        "    model.add(layers.Dropout(0.3))\n",
        "\n",
        "    model.add(layers.Conv2D(256, (3, 3), activation='relu'))\n",
        "    model.add(layers.MaxPooling2D((2, 2)))\n",
        "    model.add(layers.Dropout(0.3))\n",
        "\n",
        "    model.add(layers.Flatten())\n",
        "\n",
        "    model.add(layers.Dense(256, activation='relu'))\n",
        "    model.add(layers.Dense(128, activation='relu'))\n",
        "    model.add(layers.Dense(64, activation='relu'))\n",
        "    model.add(layers.Dense(30))\n",
        "    return model\n"
      ],
      "metadata": {
        "id": "TaFemb5xbXJV"
      },
      "execution_count": 3,
      "outputs": []
    },
    {
      "cell_type": "code",
      "source": [
        "def compile_model(model, optimizer, loss, metrics):\n",
        "    model.compile(optimizer=optimizer, loss=loss, metrics=metrics)"
      ],
      "metadata": {
        "id": "81bS7wIUbXX_"
      },
      "execution_count": 4,
      "outputs": []
    },
    {
      "cell_type": "code",
      "source": [
        "def train_model(model, X_train, y_train):\n",
        "    return model.fit(X_train, y_train, epochs=100, batch_size=200, verbose=1, validation_split=0.2)"
      ],
      "metadata": {
        "id": "dsVd0gLnbXbq"
      },
      "execution_count": 5,
      "outputs": []
    },
    {
      "cell_type": "code",
      "source": [
        "def save_model(model, fileName):\n",
        "    model.save(fileName + '.h5')"
      ],
      "metadata": {
        "id": "tGTQa3fcbjiM"
      },
      "execution_count": 6,
      "outputs": []
    },
    {
      "cell_type": "code",
      "source": [
        "def load_model(fileName):\n",
        "    return models.load_model(fileName + '.h5')"
      ],
      "metadata": {
        "id": "UCa49qljbjnK"
      },
      "execution_count": 7,
      "outputs": []
    },
    {
      "cell_type": "code",
      "source": [
        ""
      ],
      "metadata": {
        "id": "5YCZiHKubjqz"
      },
      "execution_count": null,
      "outputs": []
    },
    {
      "cell_type": "code",
      "source": [
        "# pd.read_csv('/content/gdrive/MyDrive/project4_data/cnn_model.py.csv')"
      ],
      "metadata": {
        "id": "7FJuOY64azAL"
      },
      "execution_count": null,
      "outputs": []
    },
    {
      "cell_type": "code",
      "execution_count": 8,
      "metadata": {
        "id": "Ws4N2q5BUKwL"
      },
      "outputs": [],
      "source": [
        "import pandas as pd\n",
        "import numpy as np\n",
        "import cv2\n",
        "from pandas.core.frame import DataFrame\n",
        "from sklearn.utils import shuffle\n",
        "import matplotlib.pyplot as plt"
      ]
    },
    {
      "cell_type": "code",
      "source": [
        "from google.colab import drive\n",
        "drive.mount('/content/gdrive')"
      ],
      "metadata": {
        "id": "bZ1WTKK2U_QF"
      },
      "execution_count": null,
      "outputs": []
    },
    {
      "cell_type": "code",
      "source": [
        "training = pd.read_csv('/content/gdrive/My Drive/training.csv')"
      ],
      "metadata": {
        "id": "UPHyLXO0VAUW"
      },
      "execution_count": null,
      "outputs": []
    },
    {
      "cell_type": "code",
      "source": [
        "def prepare_data(df):\n",
        "    '''\n",
        "    Prepare data image and target variables for training\n",
        "\n",
        "    Parameters:\n",
        "    ------------------\n",
        "    df: Training DataFrame\n",
        "\n",
        "    Returns:\n",
        "    -------------\n",
        "    X: Image (Feature) column\n",
        "    y: Target column (facial points)\n",
        "\n",
        "    '''\n",
        "    \n",
        "    # Create numpy array for pixel values in image column that are seperated by space\n",
        "    df['Image'] = df['Image'].apply(lambda x: np.fromstring(x, sep=' '))\n",
        "\n",
        "    # Drop all rows that have missing values in them\n",
        "    df = df.dropna()\n",
        "\n",
        "    # Normalize the pixel values, scale values between 0 and 1\n",
        "    X = np.vstack(df['Image'].values) / 255.\n",
        "    X = X.astype(np.float32)\n",
        "\n",
        "    # return each image as a 96 x 96 x 1\n",
        "    X = X.reshape(-1, 96, 96, 1)\n",
        "\n",
        "    # 30 columns\n",
        "    y = df[df.columns[:-1]].values\n",
        "\n",
        "    # Normalize the target value, scale values between 0 and 1\n",
        "    y = (y - 48) / 48\n",
        "\n",
        "    # schuffle train data\n",
        "    X, y = shuffle(X,y, random_state=42)\n",
        "    y = y.astype(np.float32)\n",
        "\n",
        "    return X,y"
      ],
      "metadata": {
        "id": "nUlGSX6yUO4U"
      },
      "execution_count": 9,
      "outputs": []
    },
    {
      "cell_type": "code",
      "source": [
        "def plot_data(img, face_points):\n",
        "\n",
        "    '''\n",
        "    Plot image and facial keypoints\n",
        "\n",
        "    Parameters:\n",
        "    ----------------\n",
        "    img: Image column value\n",
        "    face_point: Target column value\n",
        "    '''\n",
        "    \n",
        "    fig = plt.figure(figsize=(30,30))\n",
        "    ax = fig.add_subplot(121)\n",
        "    \n",
        "    # Plot the image\n",
        "    ax.imshow(np.squeeze(img), cmap='gray')\n",
        "    face_points = face_points * 48 + 48\n",
        "\n",
        "    # Plot the keypoints\n",
        "    ax.scatter(face_points[0::2], face_points[1::2], marker='o', c='c', s=10)\n",
        "    plt.show()"
      ],
      "metadata": {
        "id": "_CKEkoMzUO86"
      },
      "execution_count": 10,
      "outputs": []
    },
    {
      "cell_type": "code",
      "source": [
        "from google.colab import drive\n",
        "drive.mount('/content/gdrive')"
      ],
      "metadata": {
        "colab": {
          "base_uri": "https://localhost:8080/"
        },
        "id": "uVi-lSzKcKd0",
        "outputId": "f161e1f8-2aed-46d4-a4cb-7706135088d0"
      },
      "execution_count": 13,
      "outputs": [
        {
          "output_type": "stream",
          "name": "stdout",
          "text": [
            "Mounted at /content/gdrive\n"
          ]
        }
      ]
    },
    {
      "cell_type": "code",
      "source": [
        "# Load training data\n",
        "df = pd.read_csv('/content/gdrive/My Drive/training.csv')"
      ],
      "metadata": {
        "id": "ndXaJ3GnUPBR"
      },
      "execution_count": 14,
      "outputs": []
    },
    {
      "cell_type": "code",
      "source": [
        "X_train, y_train = prepare_data(df)"
      ],
      "metadata": {
        "id": "ZnQhVi0DUPF5"
      },
      "execution_count": 15,
      "outputs": []
    },
    {
      "cell_type": "code",
      "source": [
        "# Plot image and facial points for train dataset\n",
        "plot_data(X_train[200], y_train[200])"
      ],
      "metadata": {
        "colab": {
          "base_uri": "https://localhost:8080/",
          "height": 803
        },
        "id": "WWeTEsPAUi6r",
        "outputId": "a26d7539-2eaa-47d7-daa8-322af7f84074"
      },
      "execution_count": 16,
      "outputs": [
        {
          "output_type": "display_data",
          "data": {
            "image/png": "[encoded data removed]",
            "text/plain": [
              "<Figure size 2160x2160 with 1 Axes>"
            ]
          },
          "metadata": {
            "needs_background": "light"
          }
        }
      ]
    },
    {
      "cell_type": "code",
      "source": [
        "# Create the model architecture\n",
        "my_model = create_model()"
      ],
      "metadata": {
        "id": "pAY2eqZyUjCm"
      },
      "execution_count": 17,
      "outputs": []
    },
    {
      "cell_type": "code",
      "source": [
        "# Compile the model with an appropriate optimizer and loss and metrics\n",
        "compile_model(my_model, optimizer = 'adam', loss = 'mean_squared_error', metrics = ['accuracy'])"
      ],
      "metadata": {
        "id": "90TpzcWfUjHR"
      },
      "execution_count": 18,
      "outputs": []
    },
    {
      "cell_type": "code",
      "source": [
        "# Train the model\n",
        "hist = train_model(my_model, X_train, y_train)"
      ],
      "metadata": {
        "colab": {
          "base_uri": "https://localhost:8080/"
        },
        "id": "_7GO5x-7UjL5",
        "outputId": "ac083006-f584-4e01-923a-49005cd38916"
      },
      "execution_count": 19,
      "outputs": [
        {
          "output_type": "stream",
          "name": "stdout",
          "text": [
            "Epoch 1/100\n",
            "9/9 [==============================] - 32s 3s/step - loss: 0.1043 - accuracy: 0.1910 - val_loss: 0.0713 - val_accuracy: 0.2523\n",
            "Epoch 2/100\n",
            "9/9 [==============================] - 31s 3s/step - loss: 0.0495 - accuracy: 0.1957 - val_loss: 0.0425 - val_accuracy: 0.2523\n",
            "Epoch 3/100\n",
            "9/9 [==============================] - 31s 3s/step - loss: 0.0188 - accuracy: 0.5602 - val_loss: 0.0220 - val_accuracy: 0.6963\n",
            "Epoch 4/100\n",
            "9/9 [==============================] - 31s 3s/step - loss: 0.0078 - accuracy: 0.5607 - val_loss: 0.0123 - val_accuracy: 0.2523\n",
            "Epoch 5/100\n",
            "9/9 [==============================] - 31s 3s/step - loss: 0.0065 - accuracy: 0.4375 - val_loss: 0.0123 - val_accuracy: 0.6963\n",
            "Epoch 6/100\n",
            "9/9 [==============================] - 31s 3s/step - loss: 0.0058 - accuracy: 0.6922 - val_loss: 0.0130 - val_accuracy: 0.6963\n",
            "Epoch 7/100\n",
            "9/9 [==============================] - 31s 3s/step - loss: 0.0053 - accuracy: 0.7068 - val_loss: 0.0128 - val_accuracy: 0.6963\n",
            "Epoch 8/100\n",
            "9/9 [==============================] - 31s 3s/step - loss: 0.0052 - accuracy: 0.7056 - val_loss: 0.0150 - val_accuracy: 0.6963\n",
            "Epoch 9/100\n",
            "9/9 [==============================] - 30s 3s/step - loss: 0.0052 - accuracy: 0.7074 - val_loss: 0.0147 - val_accuracy: 0.6963\n",
            "Epoch 10/100\n",
            "9/9 [==============================] - 31s 3s/step - loss: 0.0052 - accuracy: 0.7044 - val_loss: 0.0111 - val_accuracy: 0.6963\n",
            "Epoch 11/100\n",
            "9/9 [==============================] - 30s 3s/step - loss: 0.0051 - accuracy: 0.7021 - val_loss: 0.0102 - val_accuracy: 0.6963\n",
            "Epoch 12/100\n",
            "9/9 [==============================] - 30s 3s/step - loss: 0.0050 - accuracy: 0.7068 - val_loss: 0.0128 - val_accuracy: 0.6963\n",
            "Epoch 13/100\n",
            "9/9 [==============================] - 31s 3s/step - loss: 0.0050 - accuracy: 0.7074 - val_loss: 0.0081 - val_accuracy: 0.6963\n",
            "Epoch 14/100\n",
            "9/9 [==============================] - 31s 3s/step - loss: 0.0051 - accuracy: 0.7074 - val_loss: 0.0099 - val_accuracy: 0.6963\n",
            "Epoch 15/100\n",
            "9/9 [==============================] - 31s 3s/step - loss: 0.0049 - accuracy: 0.7074 - val_loss: 0.0088 - val_accuracy: 0.6963\n",
            "Epoch 16/100\n",
            "9/9 [==============================] - 30s 3s/step - loss: 0.0048 - accuracy: 0.7079 - val_loss: 0.0100 - val_accuracy: 0.6963\n",
            "Epoch 17/100\n",
            "9/9 [==============================] - 30s 3s/step - loss: 0.0048 - accuracy: 0.7074 - val_loss: 0.0098 - val_accuracy: 0.6963\n",
            "Epoch 18/100\n",
            "9/9 [==============================] - 31s 3s/step - loss: 0.0047 - accuracy: 0.7074 - val_loss: 0.0082 - val_accuracy: 0.6963\n",
            "Epoch 19/100\n",
            "9/9 [==============================] - 31s 3s/step - loss: 0.0047 - accuracy: 0.7079 - val_loss: 0.0079 - val_accuracy: 0.6963\n",
            "Epoch 20/100\n",
            "9/9 [==============================] - 30s 3s/step - loss: 0.0047 - accuracy: 0.7074 - val_loss: 0.0091 - val_accuracy: 0.6963\n",
            "Epoch 21/100\n",
            "9/9 [==============================] - 31s 3s/step - loss: 0.0046 - accuracy: 0.7074 - val_loss: 0.0099 - val_accuracy: 0.6963\n",
            "Epoch 22/100\n",
            "9/9 [==============================] - 31s 3s/step - loss: 0.0046 - accuracy: 0.7068 - val_loss: 0.0095 - val_accuracy: 0.6963\n",
            "Epoch 23/100\n",
            "9/9 [==============================] - 31s 3s/step - loss: 0.0045 - accuracy: 0.7074 - val_loss: 0.0076 - val_accuracy: 0.6963\n",
            "Epoch 24/100\n",
            "9/9 [==============================] - 31s 3s/step - loss: 0.0045 - accuracy: 0.7074 - val_loss: 0.0079 - val_accuracy: 0.6963\n",
            "Epoch 25/100\n",
            "9/9 [==============================] - 31s 3s/step - loss: 0.0045 - accuracy: 0.7079 - val_loss: 0.0080 - val_accuracy: 0.6963\n",
            "Epoch 26/100\n",
            "9/9 [==============================] - 30s 3s/step - loss: 0.0045 - accuracy: 0.7074 - val_loss: 0.0093 - val_accuracy: 0.6963\n",
            "Epoch 27/100\n",
            "9/9 [==============================] - 31s 3s/step - loss: 0.0046 - accuracy: 0.7074 - val_loss: 0.0091 - val_accuracy: 0.6963\n",
            "Epoch 28/100\n",
            "9/9 [==============================] - 30s 3s/step - loss: 0.0045 - accuracy: 0.7074 - val_loss: 0.0070 - val_accuracy: 0.6963\n",
            "Epoch 29/100\n",
            "9/9 [==============================] - 31s 3s/step - loss: 0.0044 - accuracy: 0.7074 - val_loss: 0.0067 - val_accuracy: 0.6963\n",
            "Epoch 30/100\n",
            "9/9 [==============================] - 31s 3s/step - loss: 0.0043 - accuracy: 0.7074 - val_loss: 0.0073 - val_accuracy: 0.6963\n",
            "Epoch 31/100\n",
            "9/9 [==============================] - 31s 3s/step - loss: 0.0042 - accuracy: 0.7074 - val_loss: 0.0060 - val_accuracy: 0.6963\n",
            "Epoch 32/100\n",
            "9/9 [==============================] - 31s 3s/step - loss: 0.0043 - accuracy: 0.7074 - val_loss: 0.0064 - val_accuracy: 0.6963\n",
            "Epoch 33/100\n",
            "9/9 [==============================] - 31s 3s/step - loss: 0.0043 - accuracy: 0.7074 - val_loss: 0.0059 - val_accuracy: 0.6963\n",
            "Epoch 34/100\n",
            "9/9 [==============================] - 30s 3s/step - loss: 0.0043 - accuracy: 0.7074 - val_loss: 0.0055 - val_accuracy: 0.6963\n",
            "Epoch 35/100\n",
            "9/9 [==============================] - 30s 3s/step - loss: 0.0042 - accuracy: 0.7074 - val_loss: 0.0054 - val_accuracy: 0.6963\n",
            "Epoch 36/100\n",
            "9/9 [==============================] - 31s 3s/step - loss: 0.0041 - accuracy: 0.7074 - val_loss: 0.0055 - val_accuracy: 0.6963\n",
            "Epoch 37/100\n",
            "9/9 [==============================] - 31s 3s/step - loss: 0.0041 - accuracy: 0.7074 - val_loss: 0.0055 - val_accuracy: 0.6963\n",
            "Epoch 38/100\n",
            "9/9 [==============================] - 31s 3s/step - loss: 0.0040 - accuracy: 0.7074 - val_loss: 0.0051 - val_accuracy: 0.6963\n",
            "Epoch 39/100\n",
            "9/9 [==============================] - 31s 3s/step - loss: 0.0041 - accuracy: 0.7074 - val_loss: 0.0052 - val_accuracy: 0.6963\n",
            "Epoch 40/100\n",
            "9/9 [==============================] - 31s 3s/step - loss: 0.0040 - accuracy: 0.7074 - val_loss: 0.0052 - val_accuracy: 0.6963\n",
            "Epoch 41/100\n",
            "9/9 [==============================] - 31s 3s/step - loss: 0.0039 - accuracy: 0.7074 - val_loss: 0.0049 - val_accuracy: 0.6963\n",
            "Epoch 42/100\n",
            "9/9 [==============================] - 31s 3s/step - loss: 0.0039 - accuracy: 0.7074 - val_loss: 0.0047 - val_accuracy: 0.6963\n",
            "Epoch 43/100\n",
            "9/9 [==============================] - 31s 3s/step - loss: 0.0039 - accuracy: 0.7074 - val_loss: 0.0049 - val_accuracy: 0.6963\n",
            "Epoch 44/100\n",
            "9/9 [==============================] - 31s 3s/step - loss: 0.0038 - accuracy: 0.7074 - val_loss: 0.0043 - val_accuracy: 0.6963\n",
            "Epoch 45/100\n",
            "9/9 [==============================] - 31s 3s/step - loss: 0.0036 - accuracy: 0.7074 - val_loss: 0.0040 - val_accuracy: 0.6963\n",
            "Epoch 46/100\n",
            "9/9 [==============================] - 31s 3s/step - loss: 0.0035 - accuracy: 0.7074 - val_loss: 0.0037 - val_accuracy: 0.6963\n",
            "Epoch 47/100\n",
            "9/9 [==============================] - 31s 3s/step - loss: 0.0034 - accuracy: 0.7074 - val_loss: 0.0034 - val_accuracy: 0.6963\n",
            "Epoch 48/100\n",
            "9/9 [==============================] - 31s 3s/step - loss: 0.0033 - accuracy: 0.7074 - val_loss: 0.0032 - val_accuracy: 0.6963\n",
            "Epoch 49/100\n",
            "9/9 [==============================] - 31s 3s/step - loss: 0.0032 - accuracy: 0.7074 - val_loss: 0.0032 - val_accuracy: 0.6963\n",
            "Epoch 50/100\n",
            "9/9 [==============================] - 31s 3s/step - loss: 0.0031 - accuracy: 0.7062 - val_loss: 0.0033 - val_accuracy: 0.6963\n",
            "Epoch 51/100\n",
            "9/9 [==============================] - 31s 3s/step - loss: 0.0030 - accuracy: 0.7074 - val_loss: 0.0032 - val_accuracy: 0.7009\n",
            "Epoch 52/100\n",
            "9/9 [==============================] - 31s 3s/step - loss: 0.0029 - accuracy: 0.7091 - val_loss: 0.0027 - val_accuracy: 0.6963\n",
            "Epoch 53/100\n",
            "9/9 [==============================] - 31s 3s/step - loss: 0.0029 - accuracy: 0.7114 - val_loss: 0.0028 - val_accuracy: 0.6963\n",
            "Epoch 54/100\n",
            "9/9 [==============================] - 31s 3s/step - loss: 0.0028 - accuracy: 0.7097 - val_loss: 0.0027 - val_accuracy: 0.7056\n",
            "Epoch 55/100\n",
            "9/9 [==============================] - 31s 3s/step - loss: 0.0027 - accuracy: 0.7109 - val_loss: 0.0025 - val_accuracy: 0.7056\n",
            "Epoch 56/100\n",
            "9/9 [==============================] - 31s 3s/step - loss: 0.0026 - accuracy: 0.7109 - val_loss: 0.0026 - val_accuracy: 0.6963\n",
            "Epoch 57/100\n",
            "9/9 [==============================] - 31s 3s/step - loss: 0.0025 - accuracy: 0.7190 - val_loss: 0.0023 - val_accuracy: 0.6963\n",
            "Epoch 58/100\n",
            "9/9 [==============================] - 31s 3s/step - loss: 0.0023 - accuracy: 0.7144 - val_loss: 0.0023 - val_accuracy: 0.6846\n",
            "Epoch 59/100\n",
            "9/9 [==============================] - 31s 3s/step - loss: 0.0022 - accuracy: 0.7208 - val_loss: 0.0023 - val_accuracy: 0.6893\n",
            "Epoch 60/100\n",
            "9/9 [==============================] - 31s 3s/step - loss: 0.0021 - accuracy: 0.7243 - val_loss: 0.0022 - val_accuracy: 0.7173\n",
            "Epoch 61/100\n",
            "9/9 [==============================] - 31s 3s/step - loss: 0.0021 - accuracy: 0.7266 - val_loss: 0.0021 - val_accuracy: 0.7196\n",
            "Epoch 62/100\n",
            "9/9 [==============================] - 31s 3s/step - loss: 0.0020 - accuracy: 0.7266 - val_loss: 0.0019 - val_accuracy: 0.7150\n",
            "Epoch 63/100\n",
            "9/9 [==============================] - 31s 3s/step - loss: 0.0020 - accuracy: 0.7313 - val_loss: 0.0019 - val_accuracy: 0.7220\n",
            "Epoch 64/100\n",
            "9/9 [==============================] - 31s 3s/step - loss: 0.0019 - accuracy: 0.7202 - val_loss: 0.0020 - val_accuracy: 0.7103\n",
            "Epoch 65/100\n",
            "9/9 [==============================] - 31s 3s/step - loss: 0.0018 - accuracy: 0.7371 - val_loss: 0.0020 - val_accuracy: 0.7266\n",
            "Epoch 66/100\n",
            "9/9 [==============================] - 31s 3s/step - loss: 0.0018 - accuracy: 0.7296 - val_loss: 0.0019 - val_accuracy: 0.7079\n",
            "Epoch 67/100\n",
            "9/9 [==============================] - 31s 3s/step - loss: 0.0018 - accuracy: 0.7278 - val_loss: 0.0019 - val_accuracy: 0.7220\n",
            "Epoch 68/100\n",
            "9/9 [==============================] - 31s 3s/step - loss: 0.0018 - accuracy: 0.7494 - val_loss: 0.0018 - val_accuracy: 0.7383\n",
            "Epoch 69/100\n",
            "9/9 [==============================] - 31s 3s/step - loss: 0.0018 - accuracy: 0.7518 - val_loss: 0.0019 - val_accuracy: 0.7336\n",
            "Epoch 70/100\n",
            "9/9 [==============================] - 31s 3s/step - loss: 0.0017 - accuracy: 0.7418 - val_loss: 0.0017 - val_accuracy: 0.7290\n",
            "Epoch 71/100\n",
            "9/9 [==============================] - 31s 3s/step - loss: 0.0017 - accuracy: 0.7401 - val_loss: 0.0017 - val_accuracy: 0.7266\n",
            "Epoch 72/100\n",
            "9/9 [==============================] - 31s 3s/step - loss: 0.0017 - accuracy: 0.7447 - val_loss: 0.0018 - val_accuracy: 0.7266\n",
            "Epoch 73/100\n",
            "9/9 [==============================] - 31s 3s/step - loss: 0.0016 - accuracy: 0.7564 - val_loss: 0.0016 - val_accuracy: 0.7173\n",
            "Epoch 74/100\n",
            "9/9 [==============================] - 31s 3s/step - loss: 0.0016 - accuracy: 0.7412 - val_loss: 0.0016 - val_accuracy: 0.7383\n",
            "Epoch 75/100\n",
            "9/9 [==============================] - 31s 3s/step - loss: 0.0016 - accuracy: 0.7535 - val_loss: 0.0016 - val_accuracy: 0.7453\n",
            "Epoch 76/100\n",
            "9/9 [==============================] - 31s 3s/step - loss: 0.0015 - accuracy: 0.7395 - val_loss: 0.0016 - val_accuracy: 0.7570\n",
            "Epoch 77/100\n",
            "9/9 [==============================] - 31s 3s/step - loss: 0.0015 - accuracy: 0.7564 - val_loss: 0.0016 - val_accuracy: 0.7547\n",
            "Epoch 78/100\n",
            "9/9 [==============================] - 31s 3s/step - loss: 0.0015 - accuracy: 0.7558 - val_loss: 0.0015 - val_accuracy: 0.7383\n",
            "Epoch 79/100\n",
            "9/9 [==============================] - 31s 3s/step - loss: 0.0015 - accuracy: 0.7593 - val_loss: 0.0016 - val_accuracy: 0.7360\n",
            "Epoch 80/100\n",
            "9/9 [==============================] - 31s 3s/step - loss: 0.0015 - accuracy: 0.7611 - val_loss: 0.0016 - val_accuracy: 0.7640\n",
            "Epoch 81/100\n",
            "9/9 [==============================] - 31s 3s/step - loss: 0.0015 - accuracy: 0.7640 - val_loss: 0.0015 - val_accuracy: 0.7593\n",
            "Epoch 82/100\n",
            "9/9 [==============================] - 31s 3s/step - loss: 0.0014 - accuracy: 0.7512 - val_loss: 0.0015 - val_accuracy: 0.7500\n",
            "Epoch 83/100\n",
            "9/9 [==============================] - 31s 3s/step - loss: 0.0014 - accuracy: 0.7558 - val_loss: 0.0015 - val_accuracy: 0.7477\n",
            "Epoch 84/100\n",
            "9/9 [==============================] - 31s 3s/step - loss: 0.0014 - accuracy: 0.7605 - val_loss: 0.0014 - val_accuracy: 0.7640\n",
            "Epoch 85/100\n",
            "9/9 [==============================] - 31s 3s/step - loss: 0.0014 - accuracy: 0.7629 - val_loss: 0.0014 - val_accuracy: 0.7640\n",
            "Epoch 86/100\n",
            "9/9 [==============================] - 31s 3s/step - loss: 0.0014 - accuracy: 0.7617 - val_loss: 0.0014 - val_accuracy: 0.7500\n",
            "Epoch 87/100\n",
            "9/9 [==============================] - 31s 3s/step - loss: 0.0013 - accuracy: 0.7687 - val_loss: 0.0014 - val_accuracy: 0.7804\n",
            "Epoch 88/100\n",
            "9/9 [==============================] - 31s 3s/step - loss: 0.0013 - accuracy: 0.7716 - val_loss: 0.0014 - val_accuracy: 0.7710\n",
            "Epoch 89/100\n",
            "9/9 [==============================] - 31s 3s/step - loss: 0.0013 - accuracy: 0.7734 - val_loss: 0.0014 - val_accuracy: 0.7664\n",
            "Epoch 90/100\n",
            "9/9 [==============================] - 31s 3s/step - loss: 0.0013 - accuracy: 0.7669 - val_loss: 0.0013 - val_accuracy: 0.7547\n",
            "Epoch 91/100\n",
            "9/9 [==============================] - 31s 3s/step - loss: 0.0013 - accuracy: 0.7845 - val_loss: 0.0013 - val_accuracy: 0.7687\n",
            "Epoch 92/100\n",
            "9/9 [==============================] - 31s 3s/step - loss: 0.0012 - accuracy: 0.7792 - val_loss: 0.0012 - val_accuracy: 0.7547\n",
            "Epoch 93/100\n",
            "9/9 [==============================] - 31s 3s/step - loss: 0.0013 - accuracy: 0.7786 - val_loss: 0.0013 - val_accuracy: 0.7664\n",
            "Epoch 94/100\n",
            "9/9 [==============================] - 31s 3s/step - loss: 0.0012 - accuracy: 0.7658 - val_loss: 0.0013 - val_accuracy: 0.7617\n",
            "Epoch 95/100\n",
            "9/9 [==============================] - 31s 3s/step - loss: 0.0012 - accuracy: 0.7634 - val_loss: 0.0012 - val_accuracy: 0.7710\n",
            "Epoch 96/100\n",
            "9/9 [==============================] - 31s 3s/step - loss: 0.0012 - accuracy: 0.7856 - val_loss: 0.0012 - val_accuracy: 0.7710\n",
            "Epoch 97/100\n",
            "9/9 [==============================] - 31s 3s/step - loss: 0.0012 - accuracy: 0.7845 - val_loss: 0.0012 - val_accuracy: 0.7640\n",
            "Epoch 98/100\n",
            "9/9 [==============================] - 31s 3s/step - loss: 0.0012 - accuracy: 0.7810 - val_loss: 0.0012 - val_accuracy: 0.7967\n",
            "Epoch 99/100\n",
            "9/9 [==============================] - 31s 3s/step - loss: 0.0012 - accuracy: 0.7734 - val_loss: 0.0012 - val_accuracy: 0.7734\n",
            "Epoch 100/100\n",
            "9/9 [==============================] - 31s 3s/step - loss: 0.0011 - accuracy: 0.7845 - val_loss: 0.0012 - val_accuracy: 0.7617\n"
          ]
        }
      ]
    },
    {
      "cell_type": "code",
      "source": [
        "# Save the model\n",
        "save_model(my_model, 'models/mm')"
      ],
      "metadata": {
        "id": "ZpsbMozBUtMz"
      },
      "execution_count": 20,
      "outputs": []
    },
    {
      "cell_type": "code",
      "source": [
        ""
      ],
      "metadata": {
        "id": "u_Xy6EwpUtRA"
      },
      "execution_count": null,
      "outputs": []
    },
    {
      "cell_type": "code",
      "source": [
        ""
      ],
      "metadata": {
        "id": "YaZU7ATwUtUi"
      },
      "execution_count": null,
      "outputs": []
    },
    {
      "cell_type": "code",
      "source": [
        ""
      ],
      "metadata": {
        "id": "ZOIEC52_UtYh"
      },
      "execution_count": null,
      "outputs": []
    },
    {
      "cell_type": "code",
      "source": [
        ""
      ],
      "metadata": {
        "id": "ICnVkjjHUtbr"
      },
      "execution_count": null,
      "outputs": []
    }
  ]
}